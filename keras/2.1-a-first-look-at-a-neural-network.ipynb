{
  "nbformat": 4,
  "nbformat_minor": 0,
  "metadata": {
    "kernelspec": {
      "display_name": "Python 3",
      "language": "python",
      "name": "python3"
    },
    "language_info": {
      "codemirror_mode": {
        "name": "ipython",
        "version": 3
      },
      "file_extension": ".py",
      "mimetype": "text/x-python",
      "name": "python",
      "nbconvert_exporter": "python",
      "pygments_lexer": "ipython3",
      "version": "3.5.4"
    },
    "colab": {
      "name": "2.1-a-first-look-at-a-neural-network.ipynb",
      "provenance": []
    }
  },
  "cells": [
    {
      "cell_type": "markdown",
      "metadata": {
        "id": "9qWuxQBGLv30"
      },
      "source": [
        "**First of all, set environment variables and initialize spark context:**"
      ]
    },
    {
      "cell_type": "code",
      "metadata": {
        "id": "RJyBh6vNLv37"
      },
      "source": [
        "from zoo.common.nncontext import *\n",
        "sc = init_nncontext(init_spark_conf().setMaster(\"local[4]\"))"
      ],
      "execution_count": null,
      "outputs": []
    },
    {
      "cell_type": "markdown",
      "metadata": {
        "id": "8piams9BLv38"
      },
      "source": [
        "# A first look at a neural network\n",
        "\n",
        "----\n",
        "\n",
        "We will now take a look at a first concrete example of a neural network, which makes use of Keras (v1.2.2) API in [Analytics Zoo](https://github.com/intel-analytics/analytics-zoo) to learn to classify hand-written digits. Unless you already have experience with Keras or similar libraries, you will not understand everything about this first example right away. You probably haven't even installed Analytics zoo yet. Don't worry, that is perfectly fine. In the next chapter, we will review each element in our example and explain them in detail. So don't worry if some steps seem arbitrary or look like magic to you! We've got to start somewhere.\n",
        "\n",
        "The problem we are trying to solve here is to classify grayscale images of handwritten digits (28 pixels by 28 pixels), into their 10 categories (0 to 9). The dataset we will use is the MNIST dataset, a classic dataset in the machine learning community, which has been around for almost as long as the field itself and has been very intensively studied. It's a set of 60,000 training images, plus 10,000 test images, assembled by the National Institute of Standards and Technology (the NIST in MNIST) in the 1980s. You can think of \"solving\" MNIST as the \"Hello World\" of deep learning -- it's what you do to verify that your algorithms are working as expected. As you become a machine learning practitioner, you will see MNIST come up over and over again, in scientific papers, blog posts, and so on.\n",
        "\n",
        "The MNIST dataset  comes pre-loaded in the Keras API of Analytics Zoo, in the form of a set of four Numpy arrays:"
      ]
    },
    {
      "cell_type": "markdown",
      "metadata": {
        "id": "Aag1PokrLv39"
      },
      "source": [
        "#### Datasets import\n",
        "_In Keras one could use following code to import the datasets:_\n",
        "\n",
        "    from keras.datasets import mnist\n",
        "_Just replace it with following in Analytics zoo:_"
      ]
    },
    {
      "cell_type": "code",
      "metadata": {
        "id": "2Tmbo5x4Lv3-"
      },
      "source": [
        "from zoo.pipeline.api.keras.datasets import mnist\n",
        "(train_images, train_labels), (test_images, test_labels) = mnist.load_data()"
      ],
      "execution_count": null,
      "outputs": []
    },
    {
      "cell_type": "markdown",
      "metadata": {
        "id": "9PTcSIMpLv3-"
      },
      "source": [
        "`train_images` and `train_labels` form the \"training set\", the data that the model will learn from. The model will then be tested on the \n",
        "\"test set\", `test_images` and `test_labels`. Our images are encoded as Numpy arrays, and the labels are simply an array of digits, ranging \n",
        "from 0 to 9. There is a one-to-one correspondence between the images and the labels.\n",
        "\n",
        "Let's have a look at the training data:"
      ]
    },
    {
      "cell_type": "code",
      "metadata": {
        "id": "icX-X3OGLv3-",
        "outputId": "d15d1053-4fe8-4d61-fb85-469cdca33cd3",
        "colab": {
          "base_uri": "https://localhost:8080/"
        }
      },
      "source": [
        "train_images.shape"
      ],
      "execution_count": 6,
      "outputs": [
        {
          "output_type": "execute_result",
          "data": {
            "text/plain": [
              "(60000, 28, 28, 1)"
            ]
          },
          "metadata": {
            "tags": []
          },
          "execution_count": 6
        }
      ]
    },
    {
      "cell_type": "code",
      "metadata": {
        "id": "-7oURJfDLv3_",
        "outputId": "a1ceb81b-38ab-48ed-821b-d235ab98f469",
        "colab": {
          "base_uri": "https://localhost:8080/"
        }
      },
      "source": [
        "len(train_labels)"
      ],
      "execution_count": 7,
      "outputs": [
        {
          "output_type": "execute_result",
          "data": {
            "text/plain": [
              "60000"
            ]
          },
          "metadata": {
            "tags": []
          },
          "execution_count": 7
        }
      ]
    },
    {
      "cell_type": "code",
      "metadata": {
        "id": "5gOAGRZ_Lv3_",
        "outputId": "529884a7-6aec-437c-f1e4-5fa9a6af428b",
        "colab": {
          "base_uri": "https://localhost:8080/"
        }
      },
      "source": [
        "train_labels"
      ],
      "execution_count": 8,
      "outputs": [
        {
          "output_type": "execute_result",
          "data": {
            "text/plain": [
              "array([5, 0, 4, ..., 5, 6, 8], dtype=uint8)"
            ]
          },
          "metadata": {
            "tags": []
          },
          "execution_count": 8
        }
      ]
    },
    {
      "cell_type": "code",
      "metadata": {
        "id": "f2LFNW7hLv4A",
        "outputId": "1b039622-8300-4f51-d55e-e7702205211b",
        "colab": {
          "base_uri": "https://localhost:8080/"
        }
      },
      "source": [
        "test_images.shape"
      ],
      "execution_count": 9,
      "outputs": [
        {
          "output_type": "execute_result",
          "data": {
            "text/plain": [
              "(10000, 28, 28, 1)"
            ]
          },
          "metadata": {
            "tags": []
          },
          "execution_count": 9
        }
      ]
    },
    {
      "cell_type": "code",
      "metadata": {
        "id": "shWsB867Lv4A",
        "outputId": "159c3144-6488-4c5b-f0d5-e87c1eb570e1",
        "colab": {
          "base_uri": "https://localhost:8080/"
        }
      },
      "source": [
        "len(test_labels)"
      ],
      "execution_count": 10,
      "outputs": [
        {
          "output_type": "execute_result",
          "data": {
            "text/plain": [
              "10000"
            ]
          },
          "metadata": {
            "tags": []
          },
          "execution_count": 10
        }
      ]
    },
    {
      "cell_type": "code",
      "metadata": {
        "id": "PdUNR9sfLv4A",
        "outputId": "e32ac599-ff25-4840-92fe-daf6f5fc987f",
        "colab": {
          "base_uri": "https://localhost:8080/"
        }
      },
      "source": [
        "test_labels"
      ],
      "execution_count": 11,
      "outputs": [
        {
          "output_type": "execute_result",
          "data": {
            "text/plain": [
              "array([7, 2, 1, ..., 4, 5, 6], dtype=uint8)"
            ]
          },
          "metadata": {
            "tags": []
          },
          "execution_count": 11
        }
      ]
    },
    {
      "cell_type": "markdown",
      "metadata": {
        "id": "JcsnwgkQLv4A"
      },
      "source": [
        "Our workflow will be as follow: first we will present our neural network with the training data, `train_images` and `train_labels`. The \n",
        "network will then learn to associate images and labels. Finally, we will ask the network to produce predictions for `test_images`, and we \n",
        "will verify if these predictions match the labels from `test_labels`.\n",
        "\n",
        "Let's build our network -- again, remember that you aren't supposed to understand everything about this example just yet."
      ]
    },
    {
      "cell_type": "markdown",
      "metadata": {
        "id": "w5cpbMfrLv4B"
      },
      "source": [
        "#### Module import\n",
        "_In Keras one could use following code to import the modules we need to build the network:_\n",
        "\n",
        "    from keras import models\n",
        "    from keras import layers\n",
        "_Just replace it with following in Analytics zoo:_"
      ]
    },
    {
      "cell_type": "code",
      "metadata": {
        "collapsed": true,
        "id": "UP0ghKIXLv4B"
      },
      "source": [
        "from zoo.pipeline.api.keras import models\n",
        "from zoo.pipeline.api.keras import layers"
      ],
      "execution_count": 12,
      "outputs": []
    },
    {
      "cell_type": "code",
      "metadata": {
        "id": "wj7l816gLv4B",
        "outputId": "e5b908c4-539c-4dc5-94e5-9cd87d4bef5f",
        "colab": {
          "base_uri": "https://localhost:8080/"
        }
      },
      "source": [
        "network = models.Sequential()\n",
        "network.add(layers.Dense(512, activation='relu', input_shape=(28 * 28,)))\n",
        "network.add(layers.Dense(10, activation='softmax'))"
      ],
      "execution_count": 13,
      "outputs": [
        {
          "output_type": "stream",
          "text": [
            "creating: createZooKerasSequential\n",
            "creating: createZooKerasDense\n",
            "creating: createZooKerasDense\n"
          ],
          "name": "stdout"
        },
        {
          "output_type": "execute_result",
          "data": {
            "text/plain": [
              "<zoo.pipeline.api.keras.models.Sequential at 0x7ff43b3600f0>"
            ]
          },
          "metadata": {
            "tags": []
          },
          "execution_count": 13
        }
      ]
    },
    {
      "cell_type": "markdown",
      "metadata": {
        "id": "YvT9o5yYLv4C"
      },
      "source": [
        "The core building block of neural networks is the \"layer\", a data-processing module which you can conceive as a \"filter\" for data. Some \n",
        "data comes in, and comes out in a more useful form. Precisely, layers extract _representations_ out of the data fed into them -- hopefully \n",
        "representations that are more meaningful for the problem at hand. Most of deep learning really consists of chaining together simple layers \n",
        "which will implement a form of progressive \"data distillation\". A deep learning model is like a sieve for data processing, made of a \n",
        "succession of increasingly refined data filters -- the \"layers\".\n",
        "\n",
        "Here our network consists of a sequence of two `Dense` layers, which are densely-connected (also called \"fully-connected\") neural layers. \n",
        "The second (and last) layer is a 10-way \"softmax\" layer, which means it will return an array of 10 probability scores (summing to 1). Each \n",
        "score will be the probability that the current digit image belongs to one of our 10 digit classes.\n",
        "\n",
        "To make our network ready for training, we need to pick three more things, as part of \"compilation\" step:\n",
        "\n",
        "* A loss function: the is how the network will be able to measure how good a job it is doing on its training data, and thus how it will be \n",
        "able to steer itself in the right direction.\n",
        "* An optimizer: this is the mechanism through which the network will update itself based on the data it sees and its loss function.\n",
        "* Metrics to monitor during training and testing. Here we will only care about accuracy (the fraction of the images that were correctly \n",
        "classified).\n",
        "\n",
        "The exact purpose of the loss function and the optimizer will be made clear throughout the next two chapters."
      ]
    },
    {
      "cell_type": "code",
      "metadata": {
        "id": "RKCTuVL6Lv4C",
        "outputId": "07035eb5-f8b6-4fac-9935-e1d7c48831ff",
        "colab": {
          "base_uri": "https://localhost:8080/"
        }
      },
      "source": [
        "network.compile(optimizer='rmsprop',\n",
        "                loss='sparse_categorical_crossentropy',\n",
        "                metrics=['accuracy'])"
      ],
      "execution_count": 14,
      "outputs": [
        {
          "output_type": "stream",
          "text": [
            "creating: createRMSprop\n",
            "creating: createZooKerasSparseCategoricalCrossEntropy\n",
            "creating: createZooKerasSparseCategoricalAccuracy\n"
          ],
          "name": "stdout"
        }
      ]
    },
    {
      "cell_type": "markdown",
      "metadata": {
        "id": "IXammxQZLv4C"
      },
      "source": [
        "Before training, we will preprocess our data by reshaping it into the shape that the network expects, and scaling it so that all values are in \n",
        "the `[0, 1]` interval. Previously, our training images for instance were stored in an array of shape `(60000, 28, 28)` of type `uint8` with \n",
        "values in the `[0, 255]` interval. We transform it into a `float32` array of shape `(60000, 28 * 28)` with values between 0 and 1."
      ]
    },
    {
      "cell_type": "code",
      "metadata": {
        "collapsed": true,
        "id": "WCd3JKmRLv4C"
      },
      "source": [
        "train_images = train_images.reshape((60000, 28 * 28))\n",
        "train_images = train_images.astype('float32') / 255\n",
        "\n",
        "test_images = test_images.reshape((10000, 28 * 28))\n",
        "test_images = test_images.astype('float32') / 255"
      ],
      "execution_count": 15,
      "outputs": []
    },
    {
      "cell_type": "markdown",
      "metadata": {
        "id": "k2JfBCzMLv4E"
      },
      "source": [
        "We are now ready to train our network, which in Keras API of Analytics Zoo is done via a call to the `fit` method of the network: \n",
        "we \"fit\" the model to its training data."
      ]
    },
    {
      "cell_type": "code",
      "metadata": {
        "collapsed": true,
        "id": "TNpQwBErLv4E"
      },
      "source": [
        "network.fit(train_images, train_labels, nb_epoch=5, batch_size=128)"
      ],
      "execution_count": 16,
      "outputs": []
    },
    {
      "cell_type": "markdown",
      "metadata": {
        "id": "Vh4wBo6cLv4E"
      },
      "source": [
        "Messages below is the last INFO of training, you can find full training process in INFO, which outputs in your terminal or IDE (not the output of the program)\n",
        "\n",
        "_INFO - Trained 128 records in 0.018066358 seconds. Throughput is 7084.992 records/second. Loss is 0.012087556._"
      ]
    },
    {
      "cell_type": "markdown",
      "metadata": {
        "id": "_iwZr1f2Lv4F"
      },
      "source": [
        "We quickly reach an accuracy of 0.989 (i.e. 98.9%) on the training data. Now let's check that our model performs well on the test set too:"
      ]
    },
    {
      "cell_type": "code",
      "metadata": {
        "id": "pzpwHBoOLv4F",
        "outputId": "0db862fb-e7be-47e9-d251-94ef8f8d44d5",
        "colab": {
          "base_uri": "https://localhost:8080/"
        }
      },
      "source": [
        "test_loss, test_acc = network.evaluate(test_images, test_labels, batch_size=32)\n",
        "print('test_acc:', test_acc)"
      ],
      "execution_count": 17,
      "outputs": [
        {
          "output_type": "stream",
          "text": [
            "test_acc: 0.9799000024795532\n"
          ],
          "name": "stdout"
        }
      ]
    },
    {
      "cell_type": "markdown",
      "metadata": {
        "id": "y-Q1kdfZLv4G"
      },
      "source": [
        "This concludes our very first example -- you just saw how we could build and a train a neural network to classify handwritten digits, in \n",
        "less than 20 lines of Python code. In the next chapter, we will go in detail over every moving piece we just previewed, and clarify what is really \n",
        "going on behind the scenes. You will learn about \"tensors\", the data-storing objects going into the network, about tensor operations, which \n",
        "layers are made of, and about gradient descent, which allows our network to learn from its training examples."
      ]
    }
  ]
}
